{
 "cells": [
  {
   "attachments": {},
   "cell_type": "markdown",
   "metadata": {},
   "source": [
    "# Challenge PSL : Drug-Protein Interaction"
   ]
  },
  {
   "attachments": {},
   "cell_type": "markdown",
   "metadata": {},
   "source": [
    "## Introduction\n",
    "\n",
    "L'objectif de ce challenge est de prédire la capacité inhibitrice de molécules sur 3 protéines : \n",
    "- Protéine \n",
    "- Protéine \n",
    "- Protéine \n",
    "\n",
    "Vous disposez de trois datasets distincts correspondants à chacune des protéines. Chaque dataset est composé d'un set d'entrainement, comportant les molecules (SMILES) et la valeur d'inhibition correspondante (pIC50), et d'un set de test comportant uniquement les molécules. C'est ce dernier set de molécules dont vous devrez prédire la capacité inhibitrice et soumettre votre prédiction sur la plateforme, en respectant la syntaxe du fichier de soumission (disponible ici). Les datasets doivent être traités de façon indépendante les uns des autres. \n",
    "\n",
    "\n"
   ]
  },
  {
   "attachments": {},
   "cell_type": "markdown",
   "metadata": {},
   "source": [
    "Vous trouverez dans ce notebook une introduction à la manipulation de molécules pour la prédiction de propriétés biologiques via l'utilisation de descripteurs moléculaires type *fingerprints*. Un exemple de model prédictif est donné en utilisant cet encodage et peut vous servir de base, mais vous êtes libres d'utiliser les méthodes de votre choix pour mener à bien ce challenge. \n",
    "\n",
    "Vos résultats mais aussi et surtout la clarté/reproductibilité de votre code seront pris en compte dans la notation de ce challenge !"
   ]
  },
  {
   "attachments": {},
   "cell_type": "markdown",
   "metadata": {},
   "source": [
    "### Imports"
   ]
  },
  {
   "cell_type": "code",
   "execution_count": 16,
   "metadata": {},
   "outputs": [],
   "source": [
    "# Linear algebra and data handling\n",
    "import numpy as np\n",
    "import pandas as pd\n",
    "\n",
    "# RDKit\n",
    "import rdkit \n",
    "from rdkit import Chem\n",
    "from rdkit.Chem import AllChem\n",
    "\n",
    "# Machine learning\n",
    "from sklearn.ensemble import RandomForestRegressor\n",
    "from sklearn.model_selection import cross_validate\n",
    "\n",
    "# Viz\n",
    "import matplotlib.pyplot as plt"
   ]
  },
  {
   "attachments": {},
   "cell_type": "markdown",
   "metadata": {},
   "source": [
    "### Dataset : CHRM2"
   ]
  },
  {
   "attachments": {},
   "cell_type": "markdown",
   "metadata": {},
   "source": [
    "First, we need to load the dataset. Do not hesitate to do more exploratory data analysis on your own !"
   ]
  },
  {
   "cell_type": "code",
   "execution_count": 62,
   "metadata": {},
   "outputs": [
    {
     "name": "stdout",
     "output_type": "stream",
     "text": [
      "(304, 3) (131, 2)\n"
     ]
    },
    {
     "data": {
      "text/html": [
       "<div>\n",
       "<style scoped>\n",
       "    .dataframe tbody tr th:only-of-type {\n",
       "        vertical-align: middle;\n",
       "    }\n",
       "\n",
       "    .dataframe tbody tr th {\n",
       "        vertical-align: top;\n",
       "    }\n",
       "\n",
       "    .dataframe thead th {\n",
       "        text-align: right;\n",
       "    }\n",
       "</style>\n",
       "<table border=\"1\" class=\"dataframe\">\n",
       "  <thead>\n",
       "    <tr style=\"text-align: right;\">\n",
       "      <th></th>\n",
       "      <th>drug_id</th>\n",
       "      <th>smiles</th>\n",
       "      <th>y</th>\n",
       "    </tr>\n",
       "  </thead>\n",
       "  <tbody>\n",
       "    <tr>\n",
       "      <th>0</th>\n",
       "      <td>0</td>\n",
       "      <td>CCN1CC[C@@H](c2ccccc2)[C@H](C(=O)OC2CCCCC2)C1</td>\n",
       "      <td>5.387206</td>\n",
       "    </tr>\n",
       "    <tr>\n",
       "      <th>1</th>\n",
       "      <td>1</td>\n",
       "      <td>CCCCCCCCCCOC(=O)C1=C(c2ccccc2)CCN(CC)C1</td>\n",
       "      <td>7.675718</td>\n",
       "    </tr>\n",
       "    <tr>\n",
       "      <th>2</th>\n",
       "      <td>2</td>\n",
       "      <td>C[N+]1(CC(=O)c2cccc(F)c2)CC[C@@H](N2CC(c3ccc(F...</td>\n",
       "      <td>5.999957</td>\n",
       "    </tr>\n",
       "    <tr>\n",
       "      <th>3</th>\n",
       "      <td>3</td>\n",
       "      <td>C#CC(C)O/N=C1\\CN2CCC1C2</td>\n",
       "      <td>5.277358</td>\n",
       "    </tr>\n",
       "    <tr>\n",
       "      <th>4</th>\n",
       "      <td>4</td>\n",
       "      <td>CCN1CCN(c2ccc(NC(=O)c3cc(C(F)(F)F)ccc3C(F)(F)F...</td>\n",
       "      <td>5.568620</td>\n",
       "    </tr>\n",
       "  </tbody>\n",
       "</table>\n",
       "</div>"
      ],
      "text/plain": [
       "   drug_id                                             smiles         y\n",
       "0        0      CCN1CC[C@@H](c2ccccc2)[C@H](C(=O)OC2CCCCC2)C1  5.387206\n",
       "1        1            CCCCCCCCCCOC(=O)C1=C(c2ccccc2)CCN(CC)C1  7.675718\n",
       "2        2  C[N+]1(CC(=O)c2cccc(F)c2)CC[C@@H](N2CC(c3ccc(F...  5.999957\n",
       "3        3                            C#CC(C)O/N=C1\\CN2CCC1C2  5.277358\n",
       "4        4  CCN1CCN(c2ccc(NC(=O)c3cc(C(F)(F)F)ccc3C(F)(F)F...  5.568620"
      ]
     },
     "execution_count": 62,
     "metadata": {},
     "output_type": "execute_result"
    }
   ],
   "source": [
    "# Loading the train and test csv files\n",
    "train = pd.read_csv('/root/cloud-data/snf-mgln-idd-workspace/I0549447/code/github/ChallengePSL/data/CHRM2/train.csv')\n",
    "test = pd.read_csv('/root/cloud-data/snf-mgln-idd-workspace/I0549447/code/github/ChallengePSL/data/CHRM2/test.csv')\n",
    "\n",
    "# You can check the shapes of the train and test sets\n",
    "print(train.shape, test.shape)\n",
    "\n",
    "# You can check what it looks like\n",
    "train.head()"
   ]
  },
  {
   "attachments": {},
   "cell_type": "markdown",
   "metadata": {},
   "source": [
    "As you can see, molecules are encoded using the SMILES notation. To be understandable by the rdkit package, we need to convert them to \"Mol\" type."
   ]
  },
  {
   "cell_type": "code",
   "execution_count": 66,
   "metadata": {},
   "outputs": [
    {
     "data": {
      "text/plain": [
       "rdkit.Chem.rdchem.Mol"
      ]
     },
     "execution_count": 66,
     "metadata": {},
     "output_type": "execute_result"
    }
   ],
   "source": [
    "# Convert SMILES to mol files\n",
    "train_mols = [AllChem.MolFromSmiles(smile) for smile in train['smiles']]\n",
    "test_mols = [AllChem.MolFromSmiles(smile) for smile in test['smiles']]\n",
    "\n",
    "type(train_mols[0])"
   ]
  },
  {
   "attachments": {},
   "cell_type": "markdown",
   "metadata": {},
   "source": [
    "After converting SMILES to Mol, we can compute fingerprints. For this example, we use the Morgan fingerprints, a popular type of circular fingerprints, but many others exist. "
   ]
  },
  {
   "cell_type": "code",
   "execution_count": 67,
   "metadata": {},
   "outputs": [
    {
     "name": "stdout",
     "output_type": "stream",
     "text": [
      "(304, 2048) (131, 2048)\n"
     ]
    }
   ],
   "source": [
    "# Convert Mol to fingerprints\n",
    "train_fps = np.array([AllChem.GetMorganFingerprintAsBitVect(mol, radius=2, nBits=2048) for mol in train_mols])\n",
    "test_fps = np.array([AllChem.GetMorganFingerprintAsBitVect(mol, radius=2, nBits=2048) for mol in test_mols])\n",
    "\n",
    "print(train_fps.shape, test_fps.shape)"
   ]
  },
  {
   "attachments": {},
   "cell_type": "markdown",
   "metadata": {},
   "source": [
    "We will be using scikit-learn implementation of Random Forest as predictive model. We can now define our features (X) and targets (y)."
   ]
  },
  {
   "cell_type": "code",
   "execution_count": 68,
   "metadata": {},
   "outputs": [],
   "source": [
    "X_train = train_fps\n",
    "y_train = train['y']\n",
    "\n",
    "X_test = test_fps"
   ]
  },
  {
   "attachments": {},
   "cell_type": "markdown",
   "metadata": {},
   "source": [
    "Cross-validation is a good practice to estimate the \"true\" performance of a model on unseen data. If the cross-validation scores are satisfying, we can then train the model on the entire dataset and predict the test set.For this introduction we ouse the default parameters of the Random Forest, but keep in mind they need to be optimized for the challenge."
   ]
  },
  {
   "cell_type": "code",
   "execution_count": 70,
   "metadata": {},
   "outputs": [
    {
     "name": "stdout",
     "output_type": "stream",
     "text": [
      "Mean MAE over 10 folds = 0.3966\n",
      "Mean RMSE over 10 folds = 0.7028\n"
     ]
    }
   ],
   "source": [
    "model = RandomForestRegressor()\n",
    "cv = cross_validate(estimator=model, \n",
    "                    X=X_train, \n",
    "                    y=y_train, \n",
    "                    cv=20, \n",
    "                    scoring=[\"neg_median_absolute_error\", \"neg_root_mean_squared_error\"],\n",
    "                    n_jobs=-1,\n",
    "                    verbose=0)\n",
    "\n",
    "print(f\"Mean MAE over 10 folds = {-cv['test_neg_median_absolute_error'].mean():.4f}\")\n",
    "print(f\"Mean RMSE over 10 folds = {-cv['test_neg_root_mean_squared_error'].mean():.4f}\")"
   ]
  },
  {
   "attachments": {},
   "cell_type": "markdown",
   "metadata": {},
   "source": [
    "We can now predict X_test and make a submission file, following the template visible "
   ]
  },
  {
   "cell_type": "code",
   "execution_count": 71,
   "metadata": {},
   "outputs": [],
   "source": [
    "model.fit(X_train, y_train)\n",
    "\n",
    "y_pred = model.predict(X_test)"
   ]
  },
  {
   "cell_type": "code",
   "execution_count": 72,
   "metadata": {},
   "outputs": [],
   "source": [
    "df = pd.DataFrame()"
   ]
  },
  {
   "cell_type": "code",
   "execution_count": 75,
   "metadata": {},
   "outputs": [],
   "source": [
    "df['drug_id'] = test['drug_id']"
   ]
  },
  {
   "cell_type": "code",
   "execution_count": 76,
   "metadata": {},
   "outputs": [],
   "source": [
    "df['y'] = y_pred"
   ]
  },
  {
   "cell_type": "code",
   "execution_count": 78,
   "metadata": {},
   "outputs": [],
   "source": [
    "df.to_csv('/root/cloud-data/snf-mgln-idd-workspace/I0549447/code/github/ChallengePSL/data/CHRM2/baseline_rf.csv', index=False)"
   ]
  },
  {
   "cell_type": "code",
   "execution_count": null,
   "metadata": {},
   "outputs": [],
   "source": []
  }
 ],
 "metadata": {
  "kernelspec": {
   "display_name": "py37",
   "language": "python",
   "name": "python3"
  },
  "language_info": {
   "codemirror_mode": {
    "name": "ipython",
    "version": 3
   },
   "file_extension": ".py",
   "mimetype": "text/x-python",
   "name": "python",
   "nbconvert_exporter": "python",
   "pygments_lexer": "ipython3",
   "version": "3.7.15"
  },
  "orig_nbformat": 4,
  "vscode": {
   "interpreter": {
    "hash": "a9f8ad94d43baf5d9d9443dc69d2ed011d4543507fa57df0961a6fc97059a763"
   }
  }
 },
 "nbformat": 4,
 "nbformat_minor": 2
}
