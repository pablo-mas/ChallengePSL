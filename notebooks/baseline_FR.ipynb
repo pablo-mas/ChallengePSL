{
 "cells": [
  {
   "attachments": {},
   "cell_type": "markdown",
   "metadata": {},
   "source": [
    "# Prediction of drug target interaction for drug discovery"
   ]
  },
  {
   "attachments": {},
   "cell_type": "markdown",
   "metadata": {},
   "source": [
    "### Introduction"
   ]
  },
  {
   "attachments": {},
   "cell_type": "markdown",
   "metadata": {},
   "source": [
    "\n",
    "<div style=\"text-align: justify\"> \n",
    "\n",
    "La prédiction de l'intéraction entre une molécule et une cible thérapeutique est un élément essentiel dans le processus de découverte de médicaments, cette étape est cruciale pour développer de nouveaux médicaments ou améliorer ceux déjà existants. Le machine learning est devenu un outil puissant dans la\n",
    "\n",
    "\n",
    "IC50 and pIC50 are related metrics that measure the potency of a compound's interaction with a target protein. However, they are not the same thing.\n",
    "\n",
    "- IC50 represents the concentration of a compound that is required to inhibit the activity of the target protein by 50%. It is typically measured in units of molarity, such as nanomolar (nM) or micromolar (μM). A lower IC50 value indicates that a compound is more potent, as it can inhibit the target protein at a lower concentration.\n",
    "\n",
    "- On the other hand, pIC50 is a logarithmic transformation of IC50, and is defined as -log(IC50). pIC50 values are typically reported in units of -log(molarity), such as -log(nM) or -log(μM). A higher pIC50 value indicates that a compound is more potent, as it can inhibit the target protein at a lower concentration.\n",
    "\n",
    "The relationship between IC50 and pIC50 can be expressed mathematically as follows: \n",
    "\n",
    "$$pIC50 = -log(IC50)$$\n",
    "\n",
    "</div>\n"
   ]
  },
  {
   "attachments": {},
   "cell_type": "markdown",
   "metadata": {},
   "source": [
    "This notebook aims to provide a baseline for the challenge, by proposing a simple pipeline based on ECFP fingerprints combined with a Random Forest algorithm. The objective is to predict the pIC50 of various drugs on the VEGFR2 receptors. You have at your disposal a training dataset and a test dataset on which to make your predictions."
   ]
  },
  {
   "attachments": {},
   "cell_type": "markdown",
   "metadata": {},
   "source": [
    "### Imports"
   ]
  },
  {
   "cell_type": "code",
   "execution_count": 19,
   "metadata": {},
   "outputs": [],
   "source": [
    "# Linear algebra and data handling\n",
    "import numpy as np\n",
    "import pandas as pd\n",
    "\n",
    "# RDKit\n",
    "import rdkit \n",
    "from rdkit import Chem\n",
    "from rdkit.Chem import AllChem\n",
    "\n",
    "# Machine learning\n",
    "from sklearn.ensemble import RandomForestRegressor\n",
    "from sklearn.model_selection import cross_validate\n",
    "\n",
    "# Viz\n",
    "import matplotlib.pyplot as plt"
   ]
  },
  {
   "attachments": {},
   "cell_type": "markdown",
   "metadata": {},
   "source": [
    "### VEGFR2"
   ]
  },
  {
   "attachments": {},
   "cell_type": "markdown",
   "metadata": {},
   "source": [
    "First, we need to load the dataset. Do not hesitate to do more exploratory data analysis on your own !"
   ]
  },
  {
   "cell_type": "code",
   "execution_count": 20,
   "metadata": {},
   "outputs": [
    {
     "name": "stdout",
     "output_type": "stream",
     "text": [
      "(4400, 2) (2934, 2)\n"
     ]
    },
    {
     "data": {
      "text/html": [
       "<div>\n",
       "<style scoped>\n",
       "    .dataframe tbody tr th:only-of-type {\n",
       "        vertical-align: middle;\n",
       "    }\n",
       "\n",
       "    .dataframe tbody tr th {\n",
       "        vertical-align: top;\n",
       "    }\n",
       "\n",
       "    .dataframe thead th {\n",
       "        text-align: right;\n",
       "    }\n",
       "</style>\n",
       "<table border=\"1\" class=\"dataframe\">\n",
       "  <thead>\n",
       "    <tr style=\"text-align: right;\">\n",
       "      <th></th>\n",
       "      <th>id</th>\n",
       "      <th>smiles</th>\n",
       "    </tr>\n",
       "  </thead>\n",
       "  <tbody>\n",
       "    <tr>\n",
       "      <th>0</th>\n",
       "      <td>0</td>\n",
       "      <td>CNC(=O)c1ccccc1Sc1ccc2c(C#Cc3cccc(NCCOC)c3)n[n...</td>\n",
       "    </tr>\n",
       "    <tr>\n",
       "      <th>1</th>\n",
       "      <td>1</td>\n",
       "      <td>CC(C)(C)c1ccc(Nc2nnc(-c3cnccc3CCc3ccncc3)o2)cc1</td>\n",
       "    </tr>\n",
       "    <tr>\n",
       "      <th>2</th>\n",
       "      <td>2</td>\n",
       "      <td>CN1CCN(CCCn2ccc(-c3cnc4c(-c5ccsc5)cnn4c3)cc2=O...</td>\n",
       "    </tr>\n",
       "    <tr>\n",
       "      <th>3</th>\n",
       "      <td>3</td>\n",
       "      <td>CCn1c2ccc(NC(=O)Nc3ccc(OC)cc3)cc2c2c3c(c4c(c21...</td>\n",
       "    </tr>\n",
       "    <tr>\n",
       "      <th>4</th>\n",
       "      <td>4</td>\n",
       "      <td>Cc1ccc(C(=O)Nc2cccc(C(C)C)c2)cc1N1CCc2ncncc2C1</td>\n",
       "    </tr>\n",
       "  </tbody>\n",
       "</table>\n",
       "</div>"
      ],
      "text/plain": [
       "   id                                             smiles\n",
       "0   0  CNC(=O)c1ccccc1Sc1ccc2c(C#Cc3cccc(NCCOC)c3)n[n...\n",
       "1   1    CC(C)(C)c1ccc(Nc2nnc(-c3cnccc3CCc3ccncc3)o2)cc1\n",
       "2   2  CN1CCN(CCCn2ccc(-c3cnc4c(-c5ccsc5)cnn4c3)cc2=O...\n",
       "3   3  CCn1c2ccc(NC(=O)Nc3ccc(OC)cc3)cc2c2c3c(c4c(c21...\n",
       "4   4     Cc1ccc(C(=O)Nc2cccc(C(C)C)c2)cc1N1CCc2ncncc2C1"
      ]
     },
     "execution_count": 20,
     "metadata": {},
     "output_type": "execute_result"
    }
   ],
   "source": [
    "# Loading the train and test csv files\n",
    "train = pd.read_csv('../data/X_train.csv')\n",
    "test = pd.read_csv('../data/X_test.csv')\n",
    "\n",
    "y_train = pd.read_csv('../data/y_train.csv')['y']\n",
    "\n",
    "# You can check the shapes of the train and test sets\n",
    "print(train.shape, test.shape)\n",
    "\n",
    "# You can check what it looks like\n",
    "train.head()"
   ]
  },
  {
   "attachments": {},
   "cell_type": "markdown",
   "metadata": {},
   "source": [
    "As you can see, molecules are encoded using the SMILES notation. To be understandable by the rdkit package, we need to convert them to \"Mol\" type."
   ]
  },
  {
   "cell_type": "code",
   "execution_count": 21,
   "metadata": {},
   "outputs": [
    {
     "data": {
      "text/plain": [
       "rdkit.Chem.rdchem.Mol"
      ]
     },
     "execution_count": 21,
     "metadata": {},
     "output_type": "execute_result"
    }
   ],
   "source": [
    "# Convert SMILES to mol files\n",
    "train_mols = [AllChem.MolFromSmiles(smile) for smile in train['smiles']]\n",
    "test_mols = [AllChem.MolFromSmiles(smile) for smile in test['smiles']]\n",
    "\n",
    "type(train_mols[0])"
   ]
  },
  {
   "attachments": {},
   "cell_type": "markdown",
   "metadata": {},
   "source": [
    "After converting SMILES to Mol, we can compute fingerprints. For this example, we use the Morgan fingerprints, a popular type of circular fingerprints, but many others exist. "
   ]
  },
  {
   "cell_type": "code",
   "execution_count": 22,
   "metadata": {},
   "outputs": [
    {
     "name": "stdout",
     "output_type": "stream",
     "text": [
      "(4400, 2048) (2934, 2048)\n"
     ]
    }
   ],
   "source": [
    "# Convert Mol to fingerprints\n",
    "train_fps = np.array([AllChem.GetMorganFingerprintAsBitVect(mol, radius=2, nBits=2048) for mol in train_mols])\n",
    "test_fps = np.array([AllChem.GetMorganFingerprintAsBitVect(mol, radius=2, nBits=2048) for mol in test_mols])\n",
    "\n",
    "print(train_fps.shape, test_fps.shape)"
   ]
  },
  {
   "attachments": {},
   "cell_type": "markdown",
   "metadata": {},
   "source": [
    "We will be using scikit-learn implementation of Random Forest as predictive model. We can now define our new features."
   ]
  },
  {
   "cell_type": "code",
   "execution_count": 23,
   "metadata": {},
   "outputs": [],
   "source": [
    "X_train = train_fps\n",
    "X_test = test_fps"
   ]
  },
  {
   "attachments": {},
   "cell_type": "markdown",
   "metadata": {},
   "source": [
    "Cross-validation is a good practice to estimate the \"true\" performance of a model on unseen data. If the cross-validation scores are satisfying, we can then train the model on the entire dataset and predict the test set. For this introduction we use the default parameters of the Random Forest, but keep in mind they might need to be optimized for the challenge. You are encouraged to try other models.\n",
    "\n",
    "This run can take a few minutes depending on your computer. "
   ]
  },
  {
   "cell_type": "code",
   "execution_count": 24,
   "metadata": {},
   "outputs": [
    {
     "name": "stdout",
     "output_type": "stream",
     "text": [
      "Mean MAE over 10 folds = 0.4269\n",
      "Mean RMSE over 10 folds = 0.7898\n"
     ]
    }
   ],
   "source": [
    "model = RandomForestRegressor(n_jobs=-1)\n",
    "cv = cross_validate(estimator=model, \n",
    "                    X=X_train, \n",
    "                    y=y_train, \n",
    "                    cv=5, \n",
    "                    scoring=[\"neg_median_absolute_error\", \"neg_root_mean_squared_error\"],\n",
    "                    n_jobs=-1,\n",
    "                    verbose=0)\n",
    "\n",
    "print(f\"Mean MAE over 10 folds = {-cv['test_neg_median_absolute_error'].mean():.4f}\")\n",
    "print(f\"Mean RMSE over 10 folds = {-cv['test_neg_root_mean_squared_error'].mean():.4f}\")"
   ]
  },
  {
   "attachments": {},
   "cell_type": "markdown",
   "metadata": {},
   "source": [
    "We can now predict X_test and make a submission file (csv) that will later be uploaded on the challenge's website. "
   ]
  },
  {
   "cell_type": "code",
   "execution_count": 25,
   "metadata": {},
   "outputs": [],
   "source": [
    "model.fit(X_train, y_train)\n",
    "\n",
    "y_pred = model.predict(X_test)"
   ]
  },
  {
   "cell_type": "code",
   "execution_count": 26,
   "metadata": {},
   "outputs": [],
   "source": [
    "submission_df = pd.DataFrame()\n",
    "submission_df['id'] = test['id']\n",
    "submission_df['y'] = y_pred\n",
    "\n",
    "submission_df.to_csv('../data/y_benchmark.csv', index=False)"
   ]
  }
 ],
 "metadata": {
  "kernelspec": {
   "display_name": "py37",
   "language": "python",
   "name": "python3"
  },
  "language_info": {
   "codemirror_mode": {
    "name": "ipython",
    "version": 3
   },
   "file_extension": ".py",
   "mimetype": "text/x-python",
   "name": "python",
   "nbconvert_exporter": "python",
   "pygments_lexer": "ipython3",
   "version": "3.7.15"
  },
  "orig_nbformat": 4,
  "vscode": {
   "interpreter": {
    "hash": "a9f8ad94d43baf5d9d9443dc69d2ed011d4543507fa57df0961a6fc97059a763"
   }
  }
 },
 "nbformat": 4,
 "nbformat_minor": 2
}
