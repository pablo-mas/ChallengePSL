{
 "cells": [
  {
   "cell_type": "code",
   "execution_count": 42,
   "metadata": {},
   "outputs": [],
   "source": [
    "import numpy as np\n",
    "import rdkit \n",
    "from rdkit import Chem\n",
    "from rdkit.Chem import AllChem\n",
    "import pandas as pd\n",
    "import matplotlib.pyplot as plt\n",
    "\n",
    "from tdc.multi_pred import DTI"
   ]
  },
  {
   "cell_type": "code",
   "execution_count": 11,
   "metadata": {},
   "outputs": [
    {
     "name": "stderr",
     "output_type": "stream",
     "text": [
      "Downloading...\n",
      "100%|██████████| 839M/839M [01:04<00:00, 13.0MiB/s]\n",
      "Loading...\n",
      "Done!\n",
      "The scale is in original affinity scale, so we will take the minimum!\n",
      "The original data has been updated!\n",
      "To log space...\n"
     ]
    }
   ],
   "source": [
    "data = DTI(name='BindingDB_IC50') \n",
    "data.harmonize_affinities(mode='max_affinity')\n",
    "data.convert_to_log(form='binding')"
   ]
  },
  {
   "cell_type": "code",
   "execution_count": 12,
   "metadata": {},
   "outputs": [],
   "source": [
    "split = data.get_split()"
   ]
  },
  {
   "cell_type": "code",
   "execution_count": 22,
   "metadata": {},
   "outputs": [],
   "source": [
    "proteins = {'P35968': {'ChEMBL_ID': 'CHEMBL279',\n",
    "            'Nickname': 'VEGFR-2',\n",
    "            'Fullname': 'Vascular endothelial growth factor receptor 2'},\n",
    "            \n",
    "            'P07711': {'ChEMBL_ID': 'CHEMBL3837',\n",
    "            'Nickname': 'CTSL',\n",
    "            'Fullname': 'Cathepsin L'},\n",
    "            \n",
    "            'P08172': {'ChEMBL_ID': 'CHEMBL211',\n",
    "            'Nickname': 'CHRM2',\n",
    "            'Fullname': 'Muscarinic acetylcholine receptor M2'}\n",
    " }"
   ]
  },
  {
   "cell_type": "code",
   "execution_count": 61,
   "metadata": {},
   "outputs": [],
   "source": [
    "df_train = split['train']\n",
    "df_train['Set'] = 'train'\n",
    "df_valid = split['valid']\n",
    "df_valid['Set'] = 'valid'\n",
    "df_test = split['test']\n",
    "df_test['Set'] = 'test'\n",
    "\n",
    "df = pd.concat([df_train, df_valid, df_test])"
   ]
  },
  {
   "cell_type": "code",
   "execution_count": 62,
   "metadata": {},
   "outputs": [],
   "source": [
    "df_VEGFR2 = df[df['Target_ID'] == 'P35968'].reset_index(drop=True)\n",
    "df_CTSL = df[df['Target_ID'] == 'P07711'].reset_index(drop=True)\n",
    "df_CHRM2 = df[df['Target_ID'] == 'P08172'].reset_index(drop=True)"
   ]
  },
  {
   "cell_type": "code",
   "execution_count": 85,
   "metadata": {},
   "outputs": [
    {
     "data": {
      "text/plain": [
       "((5113, 6), (738, 6), (1483, 6))"
      ]
     },
     "execution_count": 85,
     "metadata": {},
     "output_type": "execute_result"
    }
   ],
   "source": [
    "df_VEGFR2[df_VEGFR2['Set'] == 'train'].shape, df_VEGFR2[df_VEGFR2['Set'] == 'valid'].shape, df_VEGFR2[df_VEGFR2['Set'] == 'test'].shape"
   ]
  },
  {
   "cell_type": "code",
   "execution_count": 63,
   "metadata": {},
   "outputs": [],
   "source": [
    "df_VEGFR2_psl = pd.DataFrame()\n",
    "df_CTSL_psl = pd.DataFrame()\n",
    "df_CHRM2_psl = pd.DataFrame()"
   ]
  },
  {
   "cell_type": "code",
   "execution_count": 71,
   "metadata": {},
   "outputs": [],
   "source": [
    "df_VEGFR2_psl['smiles'] = [Chem.CanonSmiles(x) for x in df_VEGFR2['Drug']]\n",
    "df_VEGFR2_psl['y'] = df_VEGFR2['Y']\n",
    "\n",
    "df_CTSL_psl['smiles'] = [Chem.CanonSmiles(x) for x in df_CTSL['Drug']]\n",
    "df_CTSL_psl['y'] = df_CTSL['Y']\n",
    "\n",
    "df_CHRM2_psl['smiles'] = [Chem.CanonSmiles(x) for x in df_CHRM2['Drug']]\n",
    "df_CHRM2_psl['y'] = df_CHRM2['Y']"
   ]
  },
  {
   "cell_type": "code",
   "execution_count": 73,
   "metadata": {},
   "outputs": [],
   "source": [
    "from sklearn.model_selection import train_test_split"
   ]
  },
  {
   "cell_type": "code",
   "execution_count": 144,
   "metadata": {},
   "outputs": [],
   "source": [
    "X_train, X_test, y_train, y_test = train_test_split(df_CHRM2_psl['smiles'], df_CHRM2_psl['y'], test_size=0.3, random_state=42)\n",
    "\n",
    "X_train = X_train.reset_index(drop=True)\n",
    "y_train = y_train.reset_index(drop=True)\n",
    "\n",
    "X_test = X_test.reset_index(drop=True)\n",
    "y_test = y_test.reset_index(drop=True)\n",
    "\n",
    "X_train.to_csv('/root/cloud-data/snf-mgln-idd-workspace/I0549447/code/projects/ChallengePSL/data/CHRM2/X_train.csv', index=False)\n",
    "y_train.to_csv('/root/cloud-data/snf-mgln-idd-workspace/I0549447/code/projects/ChallengePSL/data/CHRM2/y_train.csv', index=False)\n",
    "X_test.to_csv('/root/cloud-data/snf-mgln-idd-workspace/I0549447/code/projects/ChallengePSL/data/CHRM2/X_test.csv', index=False)\n",
    "y_test.to_csv('/root/cloud-data/snf-mgln-idd-workspace/I0549447/code/projects/ChallengePSL/data/CHRM2/y_test.csv', index=False)\n",
    "\n"
   ]
  },
  {
   "cell_type": "code",
   "execution_count": 145,
   "metadata": {},
   "outputs": [
    {
     "data": {
      "image/png": "[encoded data removed]",
      "text/plain": [
       "<rdkit.Chem.rdchem.Mol at 0x7fad2d5a1db0>"
      ]
     },
     "execution_count": 145,
     "metadata": {},
     "output_type": "execute_result"
    }
   ],
   "source": [
    "Chem.MolFromSmiles(\"CC(C)CC1=CC=C(C=C1)C(C)C(=O)O\")"
   ]
  },
  {
   "cell_type": "code",
   "execution_count": null,
   "metadata": {},
   "outputs": [],
   "source": []
  },
  {
   "attachments": {},
   "cell_type": "markdown",
   "metadata": {},
   "source": [
    "# Overview"
   ]
  },
  {
   "attachments": {
    "image.png": {
     "image/png": "[encoded data removed]"
    }
   },
   "cell_type": "markdown",
   "metadata": {},
   "source": [
    "Une des principales familles de médicaments est celle dite des \"petites molécules\", dont le poids moléculaire est compris entre 0.1 et 1 kDa. Le plus souvent ces petites molécules vont cibler une protéine ayant un rôle dans les causes ou les symptômes d'une maladie. Pour avoir un ordre de grandeur, il existe aujourd'hui sur le marché un peu plus de 2500 médicaments de la famille des petites molécules, ciblant environ 750 protéines du corps humains. Généralement les médicaments ont une fonction inhibitrice, cherchant à réduire l'expression d'une protéine. \n",
    "\n",
    "L'efficacité d'un médicament à petites molécules est le plus souvent mesurée sa concentration inhibitrice médiane (IC50). L'IC50 est une mesure quantitative qui indique quelle concentration est nécessaire pour inhiber de moitié un processus biologique in vitro. Expérimentalement, cette valeur est déterminée en réalisant une courbe de dose-réponse. Il est courant d'utiliser la pIC50 plutôt que l'IC50 comme métrique d'inhibition. Il s'agit simplement du logarithme négatif de l'IC50 lorsqu'elle est convertie en molaire.\n",
    "![image.png](attachment:image.png)\n",
    "\n",
    "\n",
    "Étant donné une nouvelle protéine cible, la toute première étape consiste à cribler un ensemble de composés potentiels pour déterminer leur activité. Les méthodes traditionnelles pour évaluer les affinités sont les expériences de criblage à haut débit en laboratoire. Cependant, elles sont très coûteuses et sont donc limitées par leur capacité à rechercher un grand nombre de candidats. Ainsi, la prediction de l'affinité d'une mo\n",
    "\n",
    "\n",
    "La tâche de prédiction de l'interaction entre le médicament et la cible vise à prédire le score d'activité de l'interaction in silico en ne tenant compte que des informations structurelles accessibles du composé et de la séquence d'acides aminés de la protéine."
   ]
  },
  {
   "attachments": {},
   "cell_type": "markdown",
   "metadata": {},
   "source": [
    "# Data"
   ]
  },
  {
   "cell_type": "markdown",
   "metadata": {},
   "source": []
  },
  {
   "attachments": {},
   "cell_type": "markdown",
   "metadata": {},
   "source": [
    "# Rules"
   ]
  },
  {
   "cell_type": "markdown",
   "metadata": {},
   "source": []
  },
  {
   "attachments": {},
   "cell_type": "markdown",
   "metadata": {},
   "source": [
    "# Code"
   ]
  },
  {
   "cell_type": "markdown",
   "metadata": {},
   "source": []
  }
 ],
 "metadata": {
  "kernelspec": {
   "display_name": "py37",
   "language": "python",
   "name": "python3"
  },
  "language_info": {
   "codemirror_mode": {
    "name": "ipython",
    "version": 3
   },
   "file_extension": ".py",
   "mimetype": "text/x-python",
   "name": "python",
   "nbconvert_exporter": "python",
   "pygments_lexer": "ipython3",
   "version": "3.7.15"
  },
  "orig_nbformat": 4,
  "vscode": {
   "interpreter": {
    "hash": "a9f8ad94d43baf5d9d9443dc69d2ed011d4543507fa57df0961a6fc97059a763"
   }
  }
 },
 "nbformat": 4,
 "nbformat_minor": 2
}
