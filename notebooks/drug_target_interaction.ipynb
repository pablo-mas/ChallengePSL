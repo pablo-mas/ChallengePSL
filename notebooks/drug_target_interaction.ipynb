{
 "cells": [
  {
   "cell_type": "code",
   "execution_count": 2,
   "metadata": {},
   "outputs": [],
   "source": [
    "import numpy as np\n",
    "import rdkit \n",
    "from rdkit import Chem\n",
    "from rdkit.Chem import AllChem\n",
    "import pandas as pd\n",
    "import matplotlib.pyplot as plt\n",
    "\n",
    "from tdc.multi_pred import DTI"
   ]
  },
  {
   "cell_type": "code",
   "execution_count": 3,
   "metadata": {},
   "outputs": [
    {
     "name": "stderr",
     "output_type": "stream",
     "text": [
      "Downloading...\n",
      "100%|██████████| 839M/839M [00:52<00:00, 15.9MiB/s] \n",
      "Loading...\n",
      "Done!\n",
      "The scale is in original affinity scale, so we will take the minimum!\n",
      "The original data has been updated!\n",
      "To log space...\n"
     ]
    }
   ],
   "source": [
    "data = DTI(name='BindingDB_IC50') \n",
    "data.harmonize_affinities(mode='max_affinity')\n",
    "data.convert_to_log(form='binding')"
   ]
  },
  {
   "cell_type": "code",
   "execution_count": 4,
   "metadata": {},
   "outputs": [],
   "source": [
    "split = data.get_split()"
   ]
  },
  {
   "cell_type": "code",
   "execution_count": 5,
   "metadata": {},
   "outputs": [],
   "source": [
    "proteins = {'P35968': {'ChEMBL_ID': 'CHEMBL279',\n",
    "            'Nickname': 'VEGFR-2',\n",
    "            'Fullname': 'Vascular endothelial growth factor receptor 2'},\n",
    "            \n",
    "            'P07711': {'ChEMBL_ID': 'CHEMBL3837',\n",
    "            'Nickname': 'CTSL',\n",
    "            'Fullname': 'Cathepsin L'},\n",
    "            \n",
    "            'P08172': {'ChEMBL_ID': 'CHEMBL211',\n",
    "            'Nickname': 'CHRM2',\n",
    "            'Fullname': 'Muscarinic acetylcholine receptor M2'}\n",
    " }"
   ]
  },
  {
   "cell_type": "code",
   "execution_count": 6,
   "metadata": {},
   "outputs": [],
   "source": [
    "df_train = split['train']\n",
    "df_train['Set'] = 'train'\n",
    "df_valid = split['valid']\n",
    "df_valid['Set'] = 'valid'\n",
    "df_test = split['test']\n",
    "df_test['Set'] = 'test'\n",
    "\n",
    "df = pd.concat([df_train, df_valid, df_test])"
   ]
  },
  {
   "cell_type": "code",
   "execution_count": 7,
   "metadata": {},
   "outputs": [],
   "source": [
    "df_VEGFR2 = df[df['Target_ID'] == 'P35968'].reset_index(drop=True)\n",
    "df_CTSL = df[df['Target_ID'] == 'P07711'].reset_index(drop=True)\n",
    "df_CHRM2 = df[df['Target_ID'] == 'P08172'].reset_index(drop=True)"
   ]
  },
  {
   "cell_type": "code",
   "execution_count": 8,
   "metadata": {},
   "outputs": [
    {
     "data": {
      "text/plain": [
       "((5113, 6), (738, 6), (1483, 6))"
      ]
     },
     "execution_count": 8,
     "metadata": {},
     "output_type": "execute_result"
    }
   ],
   "source": [
    "df_VEGFR2[df_VEGFR2['Set'] == 'train'].shape, df_VEGFR2[df_VEGFR2['Set'] == 'valid'].shape, df_VEGFR2[df_VEGFR2['Set'] == 'test'].shape"
   ]
  },
  {
   "cell_type": "code",
   "execution_count": 9,
   "metadata": {},
   "outputs": [],
   "source": [
    "df_VEGFR2_psl = pd.DataFrame()\n",
    "df_CTSL_psl = pd.DataFrame()\n",
    "df_CHRM2_psl = pd.DataFrame()"
   ]
  },
  {
   "cell_type": "code",
   "execution_count": 10,
   "metadata": {},
   "outputs": [],
   "source": [
    "df_VEGFR2_psl['smiles'] = [Chem.CanonSmiles(x) for x in df_VEGFR2['Drug']]\n",
    "df_VEGFR2_psl['y'] = df_VEGFR2['Y']\n",
    "\n",
    "df_CTSL_psl['smiles'] = [Chem.CanonSmiles(x) for x in df_CTSL['Drug']]\n",
    "df_CTSL_psl['y'] = df_CTSL['Y']\n",
    "\n",
    "df_CHRM2_psl['smiles'] = [Chem.CanonSmiles(x) for x in df_CHRM2['Drug']]\n",
    "df_CHRM2_psl['y'] = df_CHRM2['Y']"
   ]
  },
  {
   "cell_type": "code",
   "execution_count": 11,
   "metadata": {},
   "outputs": [],
   "source": [
    "from sklearn.model_selection import train_test_split"
   ]
  },
  {
   "cell_type": "code",
   "execution_count": 30,
   "metadata": {},
   "outputs": [],
   "source": [
    "X_train, X_test, y_train, y_test = train_test_split(df_CTSL_psl['smiles'], df_CTSL_psl['y'], test_size=0.3, random_state=42)\n",
    "\n",
    "X_train = X_train.reset_index(drop=True)\n",
    "y_train = y_train.reset_index(drop=True)\n",
    "X_test = X_test.reset_index(drop=True)\n",
    "y_test = y_test.reset_index(drop=True)\n",
    "\n",
    "X_train.index = X_train.index.set_names('Id')\n",
    "y_train.index = y_train.index.set_names('Id')\n",
    "X_test.index = X_test.index.set_names('Id')\n",
    "y_test.index = y_test.index.set_names('Id')\n",
    "\n",
    "X_train = X_train.reset_index()\n",
    "y_train = y_train.reset_index()\n",
    "X_test = X_test.reset_index()\n",
    "y_test = y_test.reset_index()\n",
    "\n",
    "X_train.to_csv('/root/cloud-data/snf-mgln-idd-workspace/I0549447/code/github/ChallengePSL/data/CTSL/X_train.csv', index=False)\n",
    "y_train.to_csv('/root/cloud-data/snf-mgln-idd-workspace/I0549447/code/github/ChallengePSL/data/CTSL/y_train.csv', index=False)\n",
    "X_test.to_csv('/root/cloud-data/snf-mgln-idd-workspace/I0549447/code/github/ChallengePSL/data/CTSL/X_test.csv', index=False)\n",
    "y_test.to_csv('/root/cloud-data/snf-mgln-idd-workspace/I0549447/code/github/ChallengePSL/data/CTSL/y_test.csv', index=False)\n",
    "\n"
   ]
  },
  {
   "cell_type": "code",
   "execution_count": 28,
   "metadata": {},
   "outputs": [
    {
     "data": {
      "text/html": [
       "<div>\n",
       "<style scoped>\n",
       "    .dataframe tbody tr th:only-of-type {\n",
       "        vertical-align: middle;\n",
       "    }\n",
       "\n",
       "    .dataframe tbody tr th {\n",
       "        vertical-align: top;\n",
       "    }\n",
       "\n",
       "    .dataframe thead th {\n",
       "        text-align: right;\n",
       "    }\n",
       "</style>\n",
       "<table border=\"1\" class=\"dataframe\">\n",
       "  <thead>\n",
       "    <tr style=\"text-align: right;\">\n",
       "      <th></th>\n",
       "      <th>Id</th>\n",
       "      <th>smiles</th>\n",
       "    </tr>\n",
       "  </thead>\n",
       "  <tbody>\n",
       "    <tr>\n",
       "      <th>0</th>\n",
       "      <td>0</td>\n",
       "      <td>CCN1CC[C@@H](c2ccccc2)[C@H](C(=O)OC2CCCCC2)C1</td>\n",
       "    </tr>\n",
       "    <tr>\n",
       "      <th>1</th>\n",
       "      <td>1</td>\n",
       "      <td>CCCCCCCCCCOC(=O)C1=C(c2ccccc2)CCN(CC)C1</td>\n",
       "    </tr>\n",
       "    <tr>\n",
       "      <th>2</th>\n",
       "      <td>2</td>\n",
       "      <td>C[N+]1(CC(=O)c2cccc(F)c2)CC[C@@H](N2CC(c3ccc(F...</td>\n",
       "    </tr>\n",
       "    <tr>\n",
       "      <th>3</th>\n",
       "      <td>3</td>\n",
       "      <td>C#CC(C)O/N=C1\\CN2CCC1C2</td>\n",
       "    </tr>\n",
       "    <tr>\n",
       "      <th>4</th>\n",
       "      <td>4</td>\n",
       "      <td>CCN1CCN(c2ccc(NC(=O)c3cc(C(F)(F)F)ccc3C(F)(F)F...</td>\n",
       "    </tr>\n",
       "    <tr>\n",
       "      <th>...</th>\n",
       "      <td>...</td>\n",
       "      <td>...</td>\n",
       "    </tr>\n",
       "    <tr>\n",
       "      <th>299</th>\n",
       "      <td>299</td>\n",
       "      <td>CCC#CCO/N=C1\\CN2CCC1C2</td>\n",
       "    </tr>\n",
       "    <tr>\n",
       "      <th>300</th>\n",
       "      <td>300</td>\n",
       "      <td>CCN1CCC(c2ccccc2)=C(C(=O)OCC(C)C)C1</td>\n",
       "    </tr>\n",
       "    <tr>\n",
       "      <th>301</th>\n",
       "      <td>301</td>\n",
       "      <td>O=C(c1ccc(CO)o1)N1CCOC2(CCN(Cc3ccc(Cl)cc3)CC2)C1</td>\n",
       "    </tr>\n",
       "    <tr>\n",
       "      <th>302</th>\n",
       "      <td>302</td>\n",
       "      <td>O=C(O[C@H]1C[N+]2(CCCc3cccs3)CCC1CC2)N(Cc1cccs...</td>\n",
       "    </tr>\n",
       "    <tr>\n",
       "      <th>303</th>\n",
       "      <td>303</td>\n",
       "      <td>CCCCCCOC(=O)[C@H]1CN(CC)CC[C@H]1c1ccccc1</td>\n",
       "    </tr>\n",
       "  </tbody>\n",
       "</table>\n",
       "<p>304 rows × 2 columns</p>\n",
       "</div>"
      ],
      "text/plain": [
       "      Id                                             smiles\n",
       "0      0      CCN1CC[C@@H](c2ccccc2)[C@H](C(=O)OC2CCCCC2)C1\n",
       "1      1            CCCCCCCCCCOC(=O)C1=C(c2ccccc2)CCN(CC)C1\n",
       "2      2  C[N+]1(CC(=O)c2cccc(F)c2)CC[C@@H](N2CC(c3ccc(F...\n",
       "3      3                            C#CC(C)O/N=C1\\CN2CCC1C2\n",
       "4      4  CCN1CCN(c2ccc(NC(=O)c3cc(C(F)(F)F)ccc3C(F)(F)F...\n",
       "..   ...                                                ...\n",
       "299  299                             CCC#CCO/N=C1\\CN2CCC1C2\n",
       "300  300                CCN1CCC(c2ccccc2)=C(C(=O)OCC(C)C)C1\n",
       "301  301   O=C(c1ccc(CO)o1)N1CCOC2(CCN(Cc3ccc(Cl)cc3)CC2)C1\n",
       "302  302  O=C(O[C@H]1C[N+]2(CCCc3cccs3)CCC1CC2)N(Cc1cccs...\n",
       "303  303           CCCCCCOC(=O)[C@H]1CN(CC)CC[C@H]1c1ccccc1\n",
       "\n",
       "[304 rows x 2 columns]"
      ]
     },
     "execution_count": 28,
     "metadata": {},
     "output_type": "execute_result"
    }
   ],
   "source": [
    "X_train"
   ]
  },
  {
   "cell_type": "code",
   "execution_count": 145,
   "metadata": {},
   "outputs": [
    {
     "data": {
      "image/png": "[encoded data removed]",
      "text/plain": [
       "<rdkit.Chem.rdchem.Mol at 0x7fad2d5a1db0>"
      ]
     },
     "execution_count": 145,
     "metadata": {},
     "output_type": "execute_result"
    }
   ],
   "source": [
    "Chem.MolFromSmiles(\"CC(C)CC1=CC=C(C=C1)C(C)C(=O)O\")"
   ]
  },
  {
   "cell_type": "code",
   "execution_count": null,
   "metadata": {},
   "outputs": [],
   "source": []
  }
 ],
 "metadata": {
  "kernelspec": {
   "display_name": "py37",
   "language": "python",
   "name": "python3"
  },
  "language_info": {
   "codemirror_mode": {
    "name": "ipython",
    "version": 3
   },
   "file_extension": ".py",
   "mimetype": "text/x-python",
   "name": "python",
   "nbconvert_exporter": "python",
   "pygments_lexer": "ipython3",
   "version": "3.7.15"
  },
  "orig_nbformat": 4,
  "vscode": {
   "interpreter": {
    "hash": "a9f8ad94d43baf5d9d9443dc69d2ed011d4543507fa57df0961a6fc97059a763"
   }
  }
 },
 "nbformat": 4,
 "nbformat_minor": 2
}
